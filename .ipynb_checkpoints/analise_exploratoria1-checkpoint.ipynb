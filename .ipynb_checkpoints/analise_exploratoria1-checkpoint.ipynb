{
 "cells": [
  {
   "cell_type": "code",
   "execution_count": 1,
   "metadata": {},
   "outputs": [],
   "source": [
    "import numpy as np\n",
    "import pandas as pd\n",
    "from scipy import special\n",
    "from random import sample\n",
    "import itertools\n",
    "from datetime import timedelta\n",
    "from IPython.display import display"
   ]
  },
  {
   "cell_type": "code",
   "execution_count": 2,
   "metadata": {},
   "outputs": [],
   "source": [
    "fraude_df = pd.read_csv(\"Fraud_Data.csv\",header=0)\n",
    "ISP_df = pd.read_csv(\"IpAddress_to_Country.csv\",header=0)"
   ]
  },
  {
   "cell_type": "code",
   "execution_count": 3,
   "metadata": {},
   "outputs": [
    {
     "data": {
      "text/plain": [
       "id                  int64\n",
       "cadastro           object\n",
       "compra             object\n",
       "valor               int64\n",
       "id_dispositivo     object\n",
       "fonte              object\n",
       "browser            object\n",
       "genero             object\n",
       "idade               int64\n",
       "ip                float64\n",
       "fraude              int64\n",
       "dtype: object"
      ]
     },
     "execution_count": 3,
     "metadata": {},
     "output_type": "execute_result"
    }
   ],
   "source": [
    "fraude_df.dtypes"
   ]
  },
  {
   "cell_type": "code",
   "execution_count": 4,
   "metadata": {},
   "outputs": [
    {
     "name": "stdout",
     "output_type": "stream",
     "text": [
      "Checando valores nulos\n",
      "# de valores nulos em id: 0\n",
      "# de valores nulos em cadastro: 0\n",
      "# de valores nulos em compra: 0\n",
      "# de valores nulos em valor: 0\n",
      "# de valores nulos em id_dispositivo: 0\n",
      "# de valores nulos em fonte: 0\n",
      "# de valores nulos em browser: 0\n",
      "# de valores nulos em genero: 0\n",
      "# de valores nulos em idade: 0\n",
      "# de valores nulos em ip: 0\n",
      "# de valores nulos em fraude: 0\n"
     ]
    }
   ],
   "source": [
    "print('Checando valores nulos')\n",
    "for col in fraude_df.columns:\n",
    "    print('# de valores nulos em {}: {}'.format(col,fraude_df[col].isnull().sum()))"
   ]
  },
  {
   "cell_type": "code",
   "execution_count": 5,
   "metadata": {},
   "outputs": [
    {
     "data": {
      "text/html": [
       "<div>\n",
       "<style scoped>\n",
       "    .dataframe tbody tr th:only-of-type {\n",
       "        vertical-align: middle;\n",
       "    }\n",
       "\n",
       "    .dataframe tbody tr th {\n",
       "        vertical-align: top;\n",
       "    }\n",
       "\n",
       "    .dataframe thead th {\n",
       "        text-align: right;\n",
       "    }\n",
       "</style>\n",
       "<table border=\"1\" class=\"dataframe\">\n",
       "  <thead>\n",
       "    <tr style=\"text-align: right;\">\n",
       "      <th></th>\n",
       "      <th>id</th>\n",
       "      <th>valor</th>\n",
       "      <th>idade</th>\n",
       "      <th>ip</th>\n",
       "      <th>fraude</th>\n",
       "    </tr>\n",
       "  </thead>\n",
       "  <tbody>\n",
       "    <tr>\n",
       "      <th>count</th>\n",
       "      <td>151112.000000</td>\n",
       "      <td>151112.000000</td>\n",
       "      <td>151112.000000</td>\n",
       "      <td>1.511120e+05</td>\n",
       "      <td>151112.000000</td>\n",
       "    </tr>\n",
       "    <tr>\n",
       "      <th>mean</th>\n",
       "      <td>200171.040970</td>\n",
       "      <td>36.935372</td>\n",
       "      <td>33.140704</td>\n",
       "      <td>2.152145e+09</td>\n",
       "      <td>0.093646</td>\n",
       "    </tr>\n",
       "    <tr>\n",
       "      <th>std</th>\n",
       "      <td>115369.285024</td>\n",
       "      <td>18.322762</td>\n",
       "      <td>8.617733</td>\n",
       "      <td>1.248497e+09</td>\n",
       "      <td>0.291336</td>\n",
       "    </tr>\n",
       "    <tr>\n",
       "      <th>min</th>\n",
       "      <td>2.000000</td>\n",
       "      <td>9.000000</td>\n",
       "      <td>18.000000</td>\n",
       "      <td>5.209350e+04</td>\n",
       "      <td>0.000000</td>\n",
       "    </tr>\n",
       "    <tr>\n",
       "      <th>25%</th>\n",
       "      <td>100642.500000</td>\n",
       "      <td>22.000000</td>\n",
       "      <td>27.000000</td>\n",
       "      <td>1.085934e+09</td>\n",
       "      <td>0.000000</td>\n",
       "    </tr>\n",
       "    <tr>\n",
       "      <th>50%</th>\n",
       "      <td>199958.000000</td>\n",
       "      <td>35.000000</td>\n",
       "      <td>33.000000</td>\n",
       "      <td>2.154770e+09</td>\n",
       "      <td>0.000000</td>\n",
       "    </tr>\n",
       "    <tr>\n",
       "      <th>75%</th>\n",
       "      <td>300054.000000</td>\n",
       "      <td>49.000000</td>\n",
       "      <td>39.000000</td>\n",
       "      <td>3.243258e+09</td>\n",
       "      <td>0.000000</td>\n",
       "    </tr>\n",
       "    <tr>\n",
       "      <th>max</th>\n",
       "      <td>400000.000000</td>\n",
       "      <td>154.000000</td>\n",
       "      <td>76.000000</td>\n",
       "      <td>4.294850e+09</td>\n",
       "      <td>1.000000</td>\n",
       "    </tr>\n",
       "  </tbody>\n",
       "</table>\n",
       "</div>"
      ],
      "text/plain": [
       "                  id          valor          idade            ip  \\\n",
       "count  151112.000000  151112.000000  151112.000000  1.511120e+05   \n",
       "mean   200171.040970      36.935372      33.140704  2.152145e+09   \n",
       "std    115369.285024      18.322762       8.617733  1.248497e+09   \n",
       "min         2.000000       9.000000      18.000000  5.209350e+04   \n",
       "25%    100642.500000      22.000000      27.000000  1.085934e+09   \n",
       "50%    199958.000000      35.000000      33.000000  2.154770e+09   \n",
       "75%    300054.000000      49.000000      39.000000  3.243258e+09   \n",
       "max    400000.000000     154.000000      76.000000  4.294850e+09   \n",
       "\n",
       "              fraude  \n",
       "count  151112.000000  \n",
       "mean        0.093646  \n",
       "std         0.291336  \n",
       "min         0.000000  \n",
       "25%         0.000000  \n",
       "50%         0.000000  \n",
       "75%         0.000000  \n",
       "max         1.000000  "
      ]
     },
     "execution_count": 5,
     "metadata": {},
     "output_type": "execute_result"
    }
   ],
   "source": [
    "fraude_df.describe()"
   ]
  },
  {
   "cell_type": "code",
   "execution_count": 6,
   "metadata": {},
   "outputs": [
    {
     "name": "stdout",
     "output_type": "stream",
     "text": [
      "limite_inferior_ip:float64\n",
      "limite_superior_ip:int64\n",
      "pais:object\n"
     ]
    }
   ],
   "source": [
    "for col in ISP_df.columns:\n",
    "    print('{}:{}'.format(col,ISP_df[col].dtype))"
   ]
  },
  {
   "cell_type": "code",
   "execution_count": 7,
   "metadata": {},
   "outputs": [
    {
     "name": "stdout",
     "output_type": "stream",
     "text": [
      "Número de limites inferiores de endereço IP com decimal não-zero: 0\n"
     ]
    }
   ],
   "source": [
    "ip_floats = ISP_df.limite_inferior_ip.apply(lambda x: not x.is_integer()).sum()\n",
    "print('Número de limites inferiores de endereço IP com decimal não-zero: {}'.format(ip_floats))"
   ]
  },
  {
   "cell_type": "code",
   "execution_count": 8,
   "metadata": {},
   "outputs": [],
   "source": [
    "ISP_df.limite_inferior_ip = ISP_df.limite_inferior_ip.astype(int)"
   ]
  },
  {
   "cell_type": "code",
   "execution_count": 9,
   "metadata": {},
   "outputs": [
    {
     "name": "stdout",
     "output_type": "stream",
     "text": [
      "# de valores nulos em limite_inferior_ip: 0\n",
      "# de valores nulos em limite_superior_ip: 0\n",
      "# de valores nulos em pais: 0\n"
     ]
    }
   ],
   "source": [
    "for col in ISP_df.columns:\n",
    "    print('# de valores nulos em {}: {}'.format(col,ISP_df[col].isnull().sum()))"
   ]
  },
  {
   "cell_type": "code",
   "execution_count": 10,
   "metadata": {},
   "outputs": [
    {
     "data": {
      "text/html": [
       "<div>\n",
       "<style scoped>\n",
       "    .dataframe tbody tr th:only-of-type {\n",
       "        vertical-align: middle;\n",
       "    }\n",
       "\n",
       "    .dataframe tbody tr th {\n",
       "        vertical-align: top;\n",
       "    }\n",
       "\n",
       "    .dataframe thead th {\n",
       "        text-align: right;\n",
       "    }\n",
       "</style>\n",
       "<table border=\"1\" class=\"dataframe\">\n",
       "  <thead>\n",
       "    <tr style=\"text-align: right;\">\n",
       "      <th></th>\n",
       "      <th>limite_inferior_ip</th>\n",
       "      <th>limite_superior_ip</th>\n",
       "    </tr>\n",
       "  </thead>\n",
       "  <tbody>\n",
       "    <tr>\n",
       "      <th>count</th>\n",
       "      <td>1.388460e+05</td>\n",
       "      <td>1.388460e+05</td>\n",
       "    </tr>\n",
       "    <tr>\n",
       "      <th>mean</th>\n",
       "      <td>-1.214785e+09</td>\n",
       "      <td>2.724557e+09</td>\n",
       "    </tr>\n",
       "    <tr>\n",
       "      <th>std</th>\n",
       "      <td>1.563396e+09</td>\n",
       "      <td>8.974979e+08</td>\n",
       "    </tr>\n",
       "    <tr>\n",
       "      <th>min</th>\n",
       "      <td>-2.147484e+09</td>\n",
       "      <td>1.677747e+07</td>\n",
       "    </tr>\n",
       "    <tr>\n",
       "      <th>25%</th>\n",
       "      <td>-2.147484e+09</td>\n",
       "      <td>1.920008e+09</td>\n",
       "    </tr>\n",
       "    <tr>\n",
       "      <th>50%</th>\n",
       "      <td>-2.147484e+09</td>\n",
       "      <td>3.230888e+09</td>\n",
       "    </tr>\n",
       "    <tr>\n",
       "      <th>75%</th>\n",
       "      <td>5.228780e+08</td>\n",
       "      <td>3.350466e+09</td>\n",
       "    </tr>\n",
       "    <tr>\n",
       "      <th>max</th>\n",
       "      <td>2.113929e+09</td>\n",
       "      <td>3.758096e+09</td>\n",
       "    </tr>\n",
       "  </tbody>\n",
       "</table>\n",
       "</div>"
      ],
      "text/plain": [
       "       limite_inferior_ip  limite_superior_ip\n",
       "count        1.388460e+05        1.388460e+05\n",
       "mean        -1.214785e+09        2.724557e+09\n",
       "std          1.563396e+09        8.974979e+08\n",
       "min         -2.147484e+09        1.677747e+07\n",
       "25%         -2.147484e+09        1.920008e+09\n",
       "50%         -2.147484e+09        3.230888e+09\n",
       "75%          5.228780e+08        3.350466e+09\n",
       "max          2.113929e+09        3.758096e+09"
      ]
     },
     "execution_count": 10,
     "metadata": {},
     "output_type": "execute_result"
    }
   ],
   "source": [
    "ISP_df.describe()"
   ]
  },
  {
   "cell_type": "code",
   "execution_count": 11,
   "metadata": {},
   "outputs": [
    {
     "data": {
      "text/html": [
       "<div>\n",
       "<style scoped>\n",
       "    .dataframe tbody tr th:only-of-type {\n",
       "        vertical-align: middle;\n",
       "    }\n",
       "\n",
       "    .dataframe tbody tr th {\n",
       "        vertical-align: top;\n",
       "    }\n",
       "\n",
       "    .dataframe thead th {\n",
       "        text-align: right;\n",
       "    }\n",
       "</style>\n",
       "<table border=\"1\" class=\"dataframe\">\n",
       "  <thead>\n",
       "    <tr style=\"text-align: right;\">\n",
       "      <th></th>\n",
       "      <th>limite_inferior_ip</th>\n",
       "      <th>limite_superior_ip</th>\n",
       "      <th>pais</th>\n",
       "    </tr>\n",
       "  </thead>\n",
       "  <tbody>\n",
       "    <tr>\n",
       "      <th>37035</th>\n",
       "      <td>2113929216</td>\n",
       "      <td>2130706431</td>\n",
       "      <td>Japan</td>\n",
       "    </tr>\n",
       "  </tbody>\n",
       "</table>\n",
       "</div>"
      ],
      "text/plain": [
       "       limite_inferior_ip  limite_superior_ip   pais\n",
       "37035          2113929216          2130706431  Japan"
      ]
     },
     "metadata": {},
     "output_type": "display_data"
    },
    {
     "data": {
      "text/html": [
       "<div>\n",
       "<style scoped>\n",
       "    .dataframe tbody tr th:only-of-type {\n",
       "        vertical-align: middle;\n",
       "    }\n",
       "\n",
       "    .dataframe tbody tr th {\n",
       "        vertical-align: top;\n",
       "    }\n",
       "\n",
       "    .dataframe thead th {\n",
       "        text-align: right;\n",
       "    }\n",
       "</style>\n",
       "<table border=\"1\" class=\"dataframe\">\n",
       "  <thead>\n",
       "    <tr style=\"text-align: right;\">\n",
       "      <th></th>\n",
       "      <th>limite_inferior_ip</th>\n",
       "      <th>limite_superior_ip</th>\n",
       "      <th>pais</th>\n",
       "    </tr>\n",
       "  </thead>\n",
       "  <tbody>\n",
       "    <tr>\n",
       "      <th>138845</th>\n",
       "      <td>-2147483648</td>\n",
       "      <td>3758096383</td>\n",
       "      <td>Australia</td>\n",
       "    </tr>\n",
       "  </tbody>\n",
       "</table>\n",
       "</div>"
      ],
      "text/plain": [
       "        limite_inferior_ip  limite_superior_ip       pais\n",
       "138845         -2147483648          3758096383  Australia"
      ]
     },
     "metadata": {},
     "output_type": "display_data"
    }
   ],
   "source": [
    "display(ISP_df[ISP_df.limite_inferior_ip == ISP_df.limite_inferior_ip.max()])\n",
    "display(ISP_df[ISP_df.limite_superior_ip == ISP_df.limite_superior_ip.max()])"
   ]
  },
  {
   "cell_type": "code",
   "execution_count": 12,
   "metadata": {},
   "outputs": [
    {
     "data": {
      "text/html": [
       "<div>\n",
       "<style scoped>\n",
       "    .dataframe tbody tr th:only-of-type {\n",
       "        vertical-align: middle;\n",
       "    }\n",
       "\n",
       "    .dataframe tbody tr th {\n",
       "        vertical-align: top;\n",
       "    }\n",
       "\n",
       "    .dataframe thead th {\n",
       "        text-align: right;\n",
       "    }\n",
       "</style>\n",
       "<table border=\"1\" class=\"dataframe\">\n",
       "  <thead>\n",
       "    <tr style=\"text-align: right;\">\n",
       "      <th></th>\n",
       "      <th>limite_inferior_ip</th>\n",
       "      <th>limite_superior_ip</th>\n",
       "    </tr>\n",
       "  </thead>\n",
       "  <tbody>\n",
       "    <tr>\n",
       "      <th>count</th>\n",
       "      <td>1.388460e+05</td>\n",
       "      <td>1.388460e+05</td>\n",
       "    </tr>\n",
       "    <tr>\n",
       "      <th>mean</th>\n",
       "      <td>-1.214785e+09</td>\n",
       "      <td>2.724557e+09</td>\n",
       "    </tr>\n",
       "    <tr>\n",
       "      <th>std</th>\n",
       "      <td>1.563396e+09</td>\n",
       "      <td>8.974979e+08</td>\n",
       "    </tr>\n",
       "    <tr>\n",
       "      <th>min</th>\n",
       "      <td>-2.147484e+09</td>\n",
       "      <td>1.677747e+07</td>\n",
       "    </tr>\n",
       "    <tr>\n",
       "      <th>25%</th>\n",
       "      <td>-2.147484e+09</td>\n",
       "      <td>1.920008e+09</td>\n",
       "    </tr>\n",
       "    <tr>\n",
       "      <th>50%</th>\n",
       "      <td>-2.147484e+09</td>\n",
       "      <td>3.230888e+09</td>\n",
       "    </tr>\n",
       "    <tr>\n",
       "      <th>75%</th>\n",
       "      <td>5.228780e+08</td>\n",
       "      <td>3.350466e+09</td>\n",
       "    </tr>\n",
       "    <tr>\n",
       "      <th>max</th>\n",
       "      <td>2.113929e+09</td>\n",
       "      <td>3.758096e+09</td>\n",
       "    </tr>\n",
       "  </tbody>\n",
       "</table>\n",
       "</div>"
      ],
      "text/plain": [
       "       limite_inferior_ip  limite_superior_ip\n",
       "count        1.388460e+05        1.388460e+05\n",
       "mean        -1.214785e+09        2.724557e+09\n",
       "std          1.563396e+09        8.974979e+08\n",
       "min         -2.147484e+09        1.677747e+07\n",
       "25%         -2.147484e+09        1.920008e+09\n",
       "50%         -2.147484e+09        3.230888e+09\n",
       "75%          5.228780e+08        3.350466e+09\n",
       "max          2.113929e+09        3.758096e+09"
      ]
     },
     "execution_count": 12,
     "metadata": {},
     "output_type": "execute_result"
    }
   ],
   "source": [
    "ISP_df.describe()"
   ]
  },
  {
   "cell_type": "code",
   "execution_count": 13,
   "metadata": {},
   "outputs": [
    {
     "data": {
      "text/html": [
       "<div>\n",
       "<style scoped>\n",
       "    .dataframe tbody tr th:only-of-type {\n",
       "        vertical-align: middle;\n",
       "    }\n",
       "\n",
       "    .dataframe tbody tr th {\n",
       "        vertical-align: top;\n",
       "    }\n",
       "\n",
       "    .dataframe thead th {\n",
       "        text-align: right;\n",
       "    }\n",
       "</style>\n",
       "<table border=\"1\" class=\"dataframe\">\n",
       "  <thead>\n",
       "    <tr style=\"text-align: right;\">\n",
       "      <th></th>\n",
       "      <th>id</th>\n",
       "      <th>valor</th>\n",
       "      <th>idade</th>\n",
       "      <th>ip</th>\n",
       "      <th>fraude</th>\n",
       "    </tr>\n",
       "  </thead>\n",
       "  <tbody>\n",
       "    <tr>\n",
       "      <td>count</td>\n",
       "      <td>151112.000000</td>\n",
       "      <td>151112.000000</td>\n",
       "      <td>151112.000000</td>\n",
       "      <td>1.511120e+05</td>\n",
       "      <td>151112.000000</td>\n",
       "    </tr>\n",
       "    <tr>\n",
       "      <td>mean</td>\n",
       "      <td>200171.040970</td>\n",
       "      <td>36.935372</td>\n",
       "      <td>33.140704</td>\n",
       "      <td>2.152145e+09</td>\n",
       "      <td>0.093646</td>\n",
       "    </tr>\n",
       "    <tr>\n",
       "      <td>std</td>\n",
       "      <td>115369.285024</td>\n",
       "      <td>18.322762</td>\n",
       "      <td>8.617733</td>\n",
       "      <td>1.248497e+09</td>\n",
       "      <td>0.291336</td>\n",
       "    </tr>\n",
       "    <tr>\n",
       "      <td>min</td>\n",
       "      <td>2.000000</td>\n",
       "      <td>9.000000</td>\n",
       "      <td>18.000000</td>\n",
       "      <td>5.209350e+04</td>\n",
       "      <td>0.000000</td>\n",
       "    </tr>\n",
       "    <tr>\n",
       "      <td>25%</td>\n",
       "      <td>100642.500000</td>\n",
       "      <td>22.000000</td>\n",
       "      <td>27.000000</td>\n",
       "      <td>1.085934e+09</td>\n",
       "      <td>0.000000</td>\n",
       "    </tr>\n",
       "    <tr>\n",
       "      <td>50%</td>\n",
       "      <td>199958.000000</td>\n",
       "      <td>35.000000</td>\n",
       "      <td>33.000000</td>\n",
       "      <td>2.154770e+09</td>\n",
       "      <td>0.000000</td>\n",
       "    </tr>\n",
       "    <tr>\n",
       "      <td>75%</td>\n",
       "      <td>300054.000000</td>\n",
       "      <td>49.000000</td>\n",
       "      <td>39.000000</td>\n",
       "      <td>3.243258e+09</td>\n",
       "      <td>0.000000</td>\n",
       "    </tr>\n",
       "    <tr>\n",
       "      <td>max</td>\n",
       "      <td>400000.000000</td>\n",
       "      <td>154.000000</td>\n",
       "      <td>76.000000</td>\n",
       "      <td>4.294850e+09</td>\n",
       "      <td>1.000000</td>\n",
       "    </tr>\n",
       "  </tbody>\n",
       "</table>\n",
       "</div>"
      ],
      "text/plain": [
       "                  id          valor          idade            ip  \\\n",
       "count  151112.000000  151112.000000  151112.000000  1.511120e+05   \n",
       "mean   200171.040970      36.935372      33.140704  2.152145e+09   \n",
       "std    115369.285024      18.322762       8.617733  1.248497e+09   \n",
       "min         2.000000       9.000000      18.000000  5.209350e+04   \n",
       "25%    100642.500000      22.000000      27.000000  1.085934e+09   \n",
       "50%    199958.000000      35.000000      33.000000  2.154770e+09   \n",
       "75%    300054.000000      49.000000      39.000000  3.243258e+09   \n",
       "max    400000.000000     154.000000      76.000000  4.294850e+09   \n",
       "\n",
       "              fraude  \n",
       "count  151112.000000  \n",
       "mean        0.093646  \n",
       "std         0.291336  \n",
       "min         0.000000  \n",
       "25%         0.000000  \n",
       "50%         0.000000  \n",
       "75%         0.000000  \n",
       "max         1.000000  "
      ]
     },
     "execution_count": 13,
     "metadata": {},
     "output_type": "execute_result"
    }
   ],
   "source": [
    "fraude_df.describe()"
   ]
  },
  {
   "cell_type": "code",
   "execution_count": null,
   "metadata": {},
   "outputs": [],
   "source": [
    "def isp_counts(isp):\n",
    "    pais = ISP_df[(ISP_df.limite_inferior_ip <= isp) & (ISP_df.limite_superior_ip >= isp)].pais\n",
    "    if pais.shape[0] == 1:\n",
    "        return print(\"Único\")\n",
    "    elif pais.shape[0] > 1:\n",
    "        return print(\"Vários países\")\n",
    "    elif pais.shape[0] == 0:\n",
    "        if isp > ISP_df.limite_superior_ip.max():\n",
    "            return print(\"Muito grande\")\n",
    "        elif isp < ISP_df.limite_inferior_ip.min():\n",
    "            return print(\"Muito pequeno\")\n",
    "        else:\n",
    "            return print(\"Faltando\")\n",
    "        \n",
    "ip_counts = fraude_df.ip.apply(isp_counts)\n",
    "ip_counts.value_counts()"
   ]
  },
  {
   "cell_type": "code",
   "execution_count": null,
   "metadata": {},
   "outputs": [],
   "source": [
    "def ip_para_pais(ip):\n",
    "    tmp = ISP_df[(ISP_df.limite_inferior_ip <= ip)\n",
    "                & (ISP_df.limite_superior_ip >= ip)].pais\n",
    "    if tmp.shape[0] == 1:\n",
    "        return tmp.iloc[0]\n",
    "    elif tmp.shape[0] < 1:\n",
    "        return print(\"Faltando\")\n",
    "    elif tmp.shape[0] > 1:\n",
    "        return print(\"Erro\")\n",
    "    \n",
    "fraude_df[\"pais\"] = fraude_df.ip.apply(ip_para_pais)"
   ]
  },
  {
   "cell_type": "code",
   "execution_count": null,
   "metadata": {},
   "outputs": [],
   "source": [
    "fraude_df.head()"
   ]
  },
  {
   "cell_type": "code",
   "execution_count": null,
   "metadata": {},
   "outputs": [],
   "source": [
    "#fraude_df.to_csv(\"Dados_fraude_com_pais\", index=False)\n",
    "fraude_df = pd.read_csv(\"Dados_fraude_com_pais\", header=0)\n",
    "fraude_df.head()"
   ]
  }
 ],
 "metadata": {
  "kernelspec": {
   "display_name": "Python 3",
   "language": "python",
   "name": "python3"
  },
  "language_info": {
   "codemirror_mode": {
    "name": "ipython",
    "version": 3
   },
   "file_extension": ".py",
   "mimetype": "text/x-python",
   "name": "python",
   "nbconvert_exporter": "python",
   "pygments_lexer": "ipython3",
   "version": "3.8.5"
  }
 },
 "nbformat": 4,
 "nbformat_minor": 2
}
